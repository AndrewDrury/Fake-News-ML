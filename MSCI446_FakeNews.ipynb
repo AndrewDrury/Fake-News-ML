{
  "nbformat": 4,
  "nbformat_minor": 0,
  "metadata": {
    "colab": {
      "name": "MSCI446_FakeNews.ipynb",
      "provenance": [],
      "collapsed_sections": [
        "kyrN-2phkJ7K"
      ],
      "authorship_tag": "ABX9TyMOXXvnnldL7qFcWPTI3sj+",
      "include_colab_link": true
    },
    "kernelspec": {
      "name": "python3",
      "display_name": "Python 3"
    },
    "language_info": {
      "name": "python"
    }
  },
  "cells": [
    {
      "cell_type": "markdown",
      "metadata": {
        "id": "view-in-github",
        "colab_type": "text"
      },
      "source": [
        "<a href=\"https://colab.research.google.com/github/AndrewDrury/FakeNewsML/blob/main/MSCI446_FakeNews.ipynb\" target=\"_parent\"><img src=\"https://colab.research.google.com/assets/colab-badge.svg\" alt=\"Open In Colab\"/></a>"
      ]
    },
    {
      "cell_type": "markdown",
      "source": [
        "# MSCI Project - Fake News\n",
        "Written by Andrew Drury & Michael Cheng"
      ],
      "metadata": {
        "id": "PREJsHV6DOY3"
      }
    },
    {
      "cell_type": "markdown",
      "source": [
        "### Imports\n",
        "All imports required for the project."
      ],
      "metadata": {
        "id": "GgF_UTWqETHq"
      }
    },
    {
      "cell_type": "code",
      "source": [
        "import numpy as np\n",
        "import pandas as pd\n",
        "import matplotlib.pyplot as plt\n",
        "import re\n",
        "import nltk\n",
        "nltk.download('punkt')\n",
        "nltk.download('stopwords')\n",
        "from nltk.tokenize import word_tokenize\n",
        "from nltk.corpus import stopwords\n",
        "from nltk.stem.snowball import SnowballStemmer\n",
        "from sklearn.feature_extraction.text import TfidfVectorizer\n",
        "from sklearn.feature_extraction.text import CountVectorizer\n",
        "from sklearn.model_selection import StratifiedKFold\n",
        "from mlxtend.frequent_patterns import apriori, association_rules\n",
        "from scipy.sparse import hstack\n",
        "from mlxtend.preprocessing import TransactionEncoder"
      ],
      "metadata": {
        "id": "xAC3iUViESvc",
        "colab": {
          "base_uri": "https://localhost:8080/"
        },
        "outputId": "8450cca2-f707-4116-ab60-ff7be752f289"
      },
      "execution_count": 6,
      "outputs": [
        {
          "output_type": "stream",
          "name": "stdout",
          "text": [
            "[nltk_data] Downloading package punkt to /root/nltk_data...\n",
            "[nltk_data]   Package punkt is already up-to-date!\n",
            "[nltk_data] Downloading package stopwords to /root/nltk_data...\n",
            "[nltk_data]   Package stopwords is already up-to-date!\n"
          ]
        }
      ]
    },
    {
      "cell_type": "markdown",
      "source": [
        "## Part 1: Data Transformation"
      ],
      "metadata": {
        "id": "LVzcKfFZDqYv"
      }
    },
    {
      "cell_type": "markdown",
      "source": [
        "### Load data from tsv file\n",
        "The tsv file contains 12,386 rows each containing a statement that has been fact checked with additional descriptive columns. A github repository was created in order to store the tsv file. The data is imported and assigned column names."
      ],
      "metadata": {
        "id": "t3ssQ7kNhMl6"
      }
    },
    {
      "cell_type": "code",
      "execution_count": 7,
      "metadata": {
        "id": "L22j3ufi-8oJ"
      },
      "outputs": [],
      "source": [
        "# Link to the raw tsv file stored in a Github repository\n",
        "datasetUrl = 'https://raw.githubusercontent.com/AndrewDrury/FakeNewsML/main/factCheck.tsv'\n",
        "\n",
        "# Load tsv file, assign column names to tsv\n",
        "df = pd.read_csv(datasetUrl, delimiter='\\t', engine='python', header=None, names=['id', 'label', 'statement', 'subjects', 'speaker', 'job-title', 'state', 'party-affiliation', 'barely-true', 'false', 'half-true', 'mostly-true', 'pants-fire', 'context'])"
      ]
    },
    {
      "cell_type": "markdown",
      "source": [
        "### Apply Text Mining Methods to prep Inputs\n",
        "\n",
        "To predict the truthfulness of a statement, the words in the statement and context need to be extracted and transformed into a more useful form of input.\n",
        "\n",
        "The following steps are taken to transform the statements and contexts into stems. The subjects do not need to be stemmed as they are already cleaned with only 144 possible values.\n",
        "\n",
        "1.   All characters in the statements and contexts will be transformed to lowercase\n",
        "2.   The strings will be split into tokens, each token representing a continuous sequence of letters\n",
        "3.   All characters not present in the alphabet will be removed\n",
        "4.   Remove common stopwords that do not provide any useful information (words like 'the', 'a')\n",
        "5.   The SnowballStemmer package will be used to transform tokens into stems. SnowballStemmer is chosen over its commonly used predecessor, PorterStemmer, as it applies more agressive stemming and corrects common issues found in PorterStemmer. Stems are the roots of a word and will reduce the number of features (tokens). Many similar tokens will be reduced to their singular and common root. For example, the words 'likes', 'liked', 'liking', and 'likely' will all be reduced to their stem 'like'."
      ],
      "metadata": {
        "id": "AV60BWmfiqwj"
      }
    },
    {
      "cell_type": "code",
      "source": [
        "def getStems(column, removeUnique=False):\n",
        "  # Transform all characters to lowercase\n",
        "  lowerCase = column.str.lower()\n",
        "\n",
        "  # Tokenize strings\n",
        "  tokens = lowerCase.apply(word_tokenize)\n",
        "\n",
        "  # Remove all characters not present in the alphabet\n",
        "  tokens = tokens.apply(lambda words: [re.sub(r'[^a-z]+', '', token) for token in words])\n",
        "\n",
        "  # Remove common stopwords that do not provide any useful information (words like 'the', 'a')\n",
        "  stopList = stopwords.words('english')\n",
        "  tokens = tokens.apply(lambda statement: [token for token in statement if token not in (stopList)])\n",
        "\n",
        "  # Stem tokens in strings using SnowballStemmer\n",
        "  stemmer = SnowballStemmer(\"english\")\n",
        "  stems = tokens.apply(lambda x: [stemmer.stem(y) for y in x])\n",
        "\n",
        "  # # Remove all unique stems (all stems with only one occurence) if removeUniqueStems flag is true\n",
        "  # if removeUnique:\n",
        "  #   stemSet = {}\n",
        "  #   for row in stems:\n",
        "  #     for stem in row:\n",
        "  #       if stem in stemSet:\n",
        "  #         stemSet[stem] += 1\n",
        "  #       else:\n",
        "  #         stemSet[stem] = 1\n",
        "  #   stems = stems.apply(lambda row: [val for val in row if stemSet[val]>1])\n",
        "  stems = pd.DataFrame(val for val in stems)\n",
        "  return stems\n",
        "\n",
        "# Create stem matrix for all statements\n",
        "statementStems = getStems(df['statement'])\n",
        "\n",
        "# The contexts contained non-string NaN values, all NaN values are replaced by an empty string\n",
        "contextsNoNan = df['context'].replace(np.nan,'')\n",
        "# Create stem matrix for all contexts\n",
        "contextStems = getStems(contextsNoNan)\n",
        "\n",
        "# Store subjects, subjects do not need to be stemmed as they are already processed\n",
        "subjects = df['subjects'].str.split(',', expand=True)\n",
        "\n",
        "# Store the truth result labels\n",
        "truthLabels = df['label']"
      ],
      "metadata": {
        "id": "bgBvxui9guZW"
      },
      "execution_count": 8,
      "outputs": []
    },
    {
      "cell_type": "markdown",
      "source": [
        "### Create TF-IDF Matrix for Supervised Classification\n",
        "\n",
        "To predict the truthfulness of a statement given a context and some subjects, a TF-IDF (term frequency inverse document frequency matrix) of stems will be created from the statements, contexts, and subjects.\n",
        "\n",
        "A TF-IDF 2D matrix will be created from the inputs prepared above using SKLearn's TfidfVectorizer. Each row in the matrix created will represent a statement with a given context and subjects. The TF-IDF score is computed by multiplying the term frequency TF in the statement by the inverse document frequency IDF. The inverse document frequency is calculated by dividing the total number of statements by the number of documents that contain the given stem. The TF-IDF score is commonly used with textual data as it augments unique and relevant terms in a body of text such as a statement."
      ],
      "metadata": {
        "id": "t73-1xCNhSVn"
      }
    },
    {
      "cell_type": "code",
      "source": [
        "def tfidfMatrix(input):\n",
        "  # Stems need to reform into sentences split with a space ' ' to use the TF-IDF vectorizer\n",
        "  inputList = input.tolist()\n",
        "  # Remove all empty strings\n",
        "  inputList = [[val for val in row if val != ''] for row in inputList]\n",
        "  # Create a list of strings, each string representing an entire row (needed for tfidf)\n",
        "  inputList = [' '.join(val) for val in inputList]\n",
        "\n",
        "  # Create TF-IDF Matrix of stems\n",
        "  tfidfVectorizer = TfidfVectorizer()\n",
        "  tfidfFinal = tfidfVectorizer.fit_transform(inputList)\n",
        "\n",
        "  return tfidfFinal, tfidfVectorizer\n",
        "\n",
        "# Group together statement stems, subjects, and context stems as the input for supervised learning\n",
        "x_supervised = pd.concat([statementStems, subjects, contextStems], axis=1)\n",
        "\n",
        "# Replace all 'None' values with empty string ''\n",
        "x_supervised = np.asarray(x_supervised.fillna(value=''))\n",
        "\n",
        "# Create tfidf matrix\n",
        "x_supervised, x_vectorizer = tfidfMatrix(x_supervised)\n",
        "# Store truth labels\n",
        "y_supervised = truthLabels\n",
        "\n",
        "print('There are %s columns in the tfidf matrix.'% len(x_vectorizer.get_feature_names_out()))"
      ],
      "metadata": {
        "colab": {
          "base_uri": "https://localhost:8080/"
        },
        "id": "5AShlt_ShJ-C",
        "outputId": "55418559-b0b8-4fb9-fb05-4212fa6e6e0b"
      },
      "execution_count": 9,
      "outputs": [
        {
          "output_type": "stream",
          "name": "stdout",
          "text": [
            "There are 9999 columns in the tfidf matrix.\n"
          ]
        }
      ]
    },
    {
      "cell_type": "markdown",
      "source": [
        "### Encode Input Data for Unsupervised Learning with the Apriori Algorithm"
      ],
      "metadata": {
        "id": "csvQNjP34sWK"
      }
    },
    {
      "cell_type": "code",
      "source": [
        "# Group together statement stems, subjects, context stems, and truth labels for unsupervised learning input\n",
        "x_unsupervised = pd.concat([statementStems, subjects, contextStems, truthLabels], axis=1)\n",
        "# Replace all none values with an empty string\n",
        "x_unsupervised = x_unsupervised.fillna(value='')\n",
        "x_unsupervised_list = x_unsupervised.values.tolist()\n",
        "\n",
        "# Transform data into encoded matrix for the apriori algorithm\n",
        "encoder = TransactionEncoder()\n",
        "aprioriRaw = encoder.fit(x_unsupervised_list).transform(x_unsupervised_list)\n",
        "\n",
        "# Convert input data into dataframe\n",
        "aprioriInput = pd.DataFrame(aprioriRaw, columns=encoder.columns_)\n",
        "\n",
        "# Drop the column containing empty strings\n",
        "aprioriInput.drop('', axis=1, inplace=True)"
      ],
      "metadata": {
        "id": "x5CKxPLC7KqV"
      },
      "execution_count": 10,
      "outputs": []
    },
    {
      "cell_type": "markdown",
      "source": [
        "## Part 2: Data Description"
      ],
      "metadata": {
        "id": "NNJXOSarD8g0"
      }
    },
    {
      "cell_type": "code",
      "source": [
        "# Create bar chart for fact check label counts\n",
        "labelCounts = y_supervised.value_counts()\n",
        "labelCounts = labelCounts.reindex(['true','mostly-true','half-true','barely-true','false','pants-fire'])\n",
        "labelCountPlot = labelCounts.plot(kind='bar', rot=0, title='Fact Check Rating Count', label='_nolegend_', figsize=(8,6))\n",
        "# labelCountPlot.bar_label(labelCountPlot.containers[0])\n",
        "\n",
        "labelCountPlot.set_xlabel('Fact Check Rating')\n",
        "labelCountPlot.set_ylabel('Count')\n",
        "\n",
        "mean = labelCounts.mean()\n",
        "median = labelCounts.median()\n",
        "labelCountPlot.axhline(mean, color='r', ls='--', label=\"Mean\")\n",
        "labelCountPlot.axhline(median, color='g', ls='--', label=\"Median\")\n",
        "labelCountPlot.legend()\n",
        "print('Mean: ', mean)\n",
        "print('Median: ', median)\n",
        "print('-'*20+'\\n', labelCounts)\n"
      ],
      "metadata": {
        "colab": {
          "base_uri": "https://localhost:8080/",
          "height": 582
        },
        "id": "EYnNlNinEYzs",
        "outputId": "8256e17e-9651-4834-baa8-4972d8a9f562"
      },
      "execution_count": 11,
      "outputs": [
        {
          "output_type": "stream",
          "name": "stdout",
          "text": [
            "Mean:  2139.3333333333335\n",
            "Median:  2287.0\n",
            "--------------------\n",
            " true           2063\n",
            "mostly-true    2466\n",
            "half-true      2638\n",
            "barely-true    2108\n",
            "false          2511\n",
            "pants-fire     1050\n",
            "Name: label, dtype: int64\n"
          ]
        },
        {
          "output_type": "display_data",
          "data": {
            "text/plain": [
              "<Figure size 576x432 with 1 Axes>"
            ],
            "image/png": "[encoded data removed]"
          },
          "metadata": {
            "needs_background": "light"
          }
        }
      ]
    },
    {
      "cell_type": "markdown",
      "source": [
        "## Part 3: Supervised Learning - Classification"
      ],
      "metadata": {
        "id": "rrG-1VYhEG9X"
      }
    },
    {
      "cell_type": "markdown",
      "source": [
        "** TO REMOVE **\n",
        "If classification model performance sucks, you may want to try encoding the y variable class labels, potentialy an ordered numerical enconding since the labels are ordered themeselves from pants-on-fire fake to completely true\n",
        "\n",
        "Another option if performance sucks would be to group the y variables class labels into 2 groups instead of the 6 ('true','mostly-true','half-true','barely-true','false','pants-fire'). So 'true' and 'mostly-true' become 'true' and everything else becomes 'false'\n",
        "\n",
        "Also, not sure if x_supervised is formatted ideally for you, its just a 2d matrice where all values are between 0-1. To find the actual words associated with each column, you would have to trace it back.\n",
        "The x matrices has 9162 statement stem columns (floats between 0-1) followed by 144 subject columns (integers 0 or 1) followed by 2104 context stem columns (term frequency integers 0, 1, or 2). So you may need to reformat it or assemble x in a different way"
      ],
      "metadata": {
        "id": "OIbklguns9Iw"
      }
    },
    {
      "cell_type": "code",
      "source": [
        "folds = 5\n",
        "\n",
        "print(x_supervised.shape)\n",
        "print(y_supervised.shape)\n",
        "\n",
        "metrics_supervised = []\n",
        "\n",
        "# SPLIT DATASET 80-20 TRAIN/TEST with Stratified kfold validation using 5 folds\n",
        "# Stratified kfold preserves the same proportions of each class in the split\n",
        "kIndices = StratifiedKFold(n_splits=folds)\n",
        "for trainIndice, testIndice in kIndices.split(x_supervised, y_supervised):\n",
        "  train_x, test_x = x_supervised[trainIndice], x_supervised[testIndice]\n",
        "  train_y, test_y = y_supervised[trainIndice], y_supervised[testIndice]\n",
        "\n",
        "  # Train classification model with train_x and train_y\n",
        "  # Test model with test_x and test_y\n",
        "  # Compute metrics for model for current kfold\n",
        "\n",
        "# Calculate metric averages across the 5 kfolds\n"
      ],
      "metadata": {
        "id": "DJN9I5E0ER8a",
        "colab": {
          "base_uri": "https://localhost:8080/"
        },
        "outputId": "27d635c0-435a-4a04-f83e-e73c0e139e47"
      },
      "execution_count": 12,
      "outputs": [
        {
          "output_type": "stream",
          "name": "stdout",
          "text": [
            "(12836, 9999)\n",
            "(12836,)\n"
          ]
        }
      ]
    },
    {
      "cell_type": "markdown",
      "source": [
        "## Part 4: Unsupervised Learning - Association Rule Mining"
      ],
      "metadata": {
        "id": "NTCXshIaEYzr"
      }
    },
    {
      "cell_type": "code",
      "source": [
        "from mlxtend.preprocessing import TransactionEncoder\n",
        "\n",
        "frequent_itemsets = apriori(aprioriInput,min_support=0.02,use_colnames=True)\n",
        "print(frequent_itemsets)\n",
        "rules = association_rules(frequent_itemsets,metric='confidence',min_threshold=0.01)\n",
        "print(rules[['antecedents','consequents','support','confidence']])"
      ],
      "metadata": {
        "colab": {
          "base_uri": "https://localhost:8080/"
        },
        "id": "mSrTsNbWkDoJ",
        "outputId": "683f360c-3d80-4f5a-d9a4-876460abc807"
      },
      "execution_count": 15,
      "outputs": [
        {
          "output_type": "stream",
          "name": "stdout",
          "text": [
            "      support                     itemsets\n",
            "0    0.024696                   (abortion)\n",
            "1    0.093721                         (ad)\n",
            "2    0.021892                    (america)\n",
            "3    0.043549                   (american)\n",
            "4    0.035837                     (barack)\n",
            "..        ...                          ...\n",
            "204  0.026800                (true, state)\n",
            "205  0.027734                (unit, state)\n",
            "206  0.071673                 (taxes, tax)\n",
            "207  0.035213  (health, care, health-care)\n",
            "208  0.020801            (taxes, say, tax)\n",
            "\n",
            "[209 rows x 2 columns]\n",
            "       antecedents    consequents   support  confidence\n",
            "0             (ad)  (barely-true)  0.022671    0.241895\n",
            "1    (barely-true)           (ad)  0.022671    0.138046\n",
            "2             (ad)     (campaign)  0.022593    0.241064\n",
            "3       (campaign)           (ad)  0.022593    0.244726\n",
            "4             (ad)    (half-true)  0.023138    0.246883\n",
            "..             ...            ...       ...         ...\n",
            "137   (taxes, tax)          (say)  0.020801    0.290217\n",
            "138     (say, tax)        (taxes)  0.020801    0.861290\n",
            "139        (taxes)     (say, tax)  0.020801    0.218673\n",
            "140          (say)   (taxes, tax)  0.020801    0.086801\n",
            "141          (tax)   (say, taxes)  0.020801    0.245404\n",
            "\n",
            "[142 rows x 4 columns]\n"
          ]
        }
      ]
    }
  ]
}