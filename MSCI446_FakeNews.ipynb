{
  "nbformat": 4,
  "nbformat_minor": 0,
  "metadata": {
    "colab": {
      "name": "MSCI446_FakeNews.ipynb",
      "provenance": [],
      "authorship_tag": "ABX9TyMahLZ/50DiaF3MUisqTFKy",
      "include_colab_link": true
    },
    "kernelspec": {
      "name": "python3",
      "display_name": "Python 3"
    },
    "language_info": {
      "name": "python"
    }
  },
  "cells": [
    {
      "cell_type": "markdown",
      "metadata": {
        "id": "view-in-github",
        "colab_type": "text"
      },
      "source": [
        "<a href=\"https://colab.research.google.com/github/AndrewDrury/FakeNewsML/blob/main/MSCI446_FakeNews.ipynb\" target=\"_parent\"><img src=\"https://colab.research.google.com/assets/colab-badge.svg\" alt=\"Open In Colab\"/></a>"
      ]
    },
    {
      "cell_type": "markdown",
      "source": [
        "# MSCI Project - Fake News\n",
        "Written by Andrew Drury & Michael Cheng"
      ],
      "metadata": {
        "id": "PREJsHV6DOY3"
      }
    },
    {
      "cell_type": "markdown",
      "source": [
        "### Imports\n",
        "All imports required for the project."
      ],
      "metadata": {
        "id": "GgF_UTWqETHq"
      }
    },
    {
      "cell_type": "code",
      "source": [
        "import numpy as np\n",
        "import pandas as pd\n",
        "import matplotlib.pyplot as plt"
      ],
      "metadata": {
        "id": "xAC3iUViESvc"
      },
      "execution_count": 1,
      "outputs": []
    },
    {
      "cell_type": "markdown",
      "source": [
        "## Part 1: Data Transformation"
      ],
      "metadata": {
        "id": "LVzcKfFZDqYv"
      }
    },
    {
      "cell_type": "code",
      "execution_count": null,
      "metadata": {
        "id": "L22j3ufi-8oJ"
      },
      "outputs": [],
      "source": [
        ""
      ]
    },
    {
      "cell_type": "markdown",
      "source": [
        "## Part 2: Data Description"
      ],
      "metadata": {
        "id": "NNJXOSarD8g0"
      }
    },
    {
      "cell_type": "code",
      "source": [
        ""
      ],
      "metadata": {
        "id": "EYnNlNinEYzs"
      },
      "execution_count": null,
      "outputs": []
    },
    {
      "cell_type": "markdown",
      "source": [
        "## Part 3: Supervised Learning - Classification"
      ],
      "metadata": {
        "id": "rrG-1VYhEG9X"
      }
    },
    {
      "cell_type": "code",
      "source": [
        ""
      ],
      "metadata": {
        "id": "DJN9I5E0ER8a"
      },
      "execution_count": null,
      "outputs": []
    },
    {
      "cell_type": "markdown",
      "source": [
        "## Part 4: Unsupervised Learning - Association Rule Mining"
      ],
      "metadata": {
        "id": "NTCXshIaEYzr"
      }
    },
    {
      "cell_type": "code",
      "source": [
        ""
      ],
      "metadata": {
        "id": "byHu_8PkEGek"
      },
      "execution_count": null,
      "outputs": []
    }
  ]
}